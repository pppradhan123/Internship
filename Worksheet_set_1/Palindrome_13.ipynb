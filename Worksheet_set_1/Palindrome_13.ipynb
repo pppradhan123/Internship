{
 "cells": [
  {
   "cell_type": "code",
   "execution_count": 23,
   "id": "49b68cfa",
   "metadata": {},
   "outputs": [
    {
     "name": "stdout",
     "output_type": "stream",
     "text": [
      "Enter the string to check if it is a palindrome or not Priyanka\n",
      "False\n",
      "Priyanka  Is not a Palindrome\n"
     ]
    }
   ],
   "source": [
    "\n",
    "#Define a function to check for palindrome\n",
    "def CheckPalindrom (PalStr):\n",
    "    for i in range(0, int(len(PalStr)/2)):\n",
    "        if PalStr[i] != PalStr [len(PalStr)-i-1]:\n",
    "            return False\n",
    "    return True\n",
    "#Checking if the string is a palidrome or not\n",
    "\n",
    "palStr = str(input(\"Enter the string to check if it is a palindrome or not \"))\n",
    "\n",
    "#convert all to lower case\n",
    "\n",
    "ans = CheckPalindrom(palStr)\n",
    "print(ans)\n",
    "\n",
    "\n",
    "if (ans):\n",
    "    print(palStr, \" Is a Palindrome\")\n",
    "else:\n",
    "    print(palStr, \" Is not a Palindrome\")\n",
    "\n"
   ]
  },
  {
   "cell_type": "code",
   "execution_count": null,
   "id": "e6fc5f8c",
   "metadata": {},
   "outputs": [],
   "source": []
  }
 ],
 "metadata": {
  "kernelspec": {
   "display_name": "Python 3 (ipykernel)",
   "language": "python",
   "name": "python3"
  },
  "language_info": {
   "codemirror_mode": {
    "name": "ipython",
    "version": 3
   },
   "file_extension": ".py",
   "mimetype": "text/x-python",
   "name": "python",
   "nbconvert_exporter": "python",
   "pygments_lexer": "ipython3",
   "version": "3.9.7"
  }
 },
 "nbformat": 4,
 "nbformat_minor": 5
}
