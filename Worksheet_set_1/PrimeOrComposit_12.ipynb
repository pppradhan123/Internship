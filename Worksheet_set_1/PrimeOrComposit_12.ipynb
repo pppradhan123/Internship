{
 "cells": [
  {
   "cell_type": "code",
   "execution_count": 10,
   "id": "96e8cf2d",
   "metadata": {},
   "outputs": [
    {
     "name": "stdout",
     "output_type": "stream",
     "text": [
      "Enter a number to check if it is prime or not23\n",
      "23 Is a prime number\n"
     ]
    }
   ],
   "source": [
    "# Program to check if the number is prime or not\n",
    "\n",
    "#Get the Num\n",
    "num = int(input(\"Enter a number to check if it is prime or not\"))\n",
    "#check if the number is positive\n",
    "if num < 0:\n",
    "    print(\"Please Enter a positve number\")\n",
    "if (num == 0 or num == 1):\n",
    "    print(num,\" Is neither prime or a composite number\")\n",
    "elif num>1:\n",
    "    for i in range(2, num):\n",
    "        if(num%i == 0):\n",
    "            print (num,\"Is a composite number\")\n",
    "            break\n",
    "            \n",
    "    else:\n",
    "        print(num, \"Is a prime number\")\n",
    "            \n",
    "        \n",
    "        "
   ]
  },
  {
   "cell_type": "code",
   "execution_count": null,
   "id": "e040b050",
   "metadata": {},
   "outputs": [],
   "source": []
  }
 ],
 "metadata": {
  "kernelspec": {
   "display_name": "Python 3 (ipykernel)",
   "language": "python",
   "name": "python3"
  },
  "language_info": {
   "codemirror_mode": {
    "name": "ipython",
    "version": 3
   },
   "file_extension": ".py",
   "mimetype": "text/x-python",
   "name": "python",
   "nbconvert_exporter": "python",
   "pygments_lexer": "ipython3",
   "version": "3.9.7"
  }
 },
 "nbformat": 4,
 "nbformat_minor": 5
}
