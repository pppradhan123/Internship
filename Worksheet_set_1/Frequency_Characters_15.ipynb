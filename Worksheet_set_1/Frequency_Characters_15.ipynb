{
 "cells": [
  {
   "cell_type": "code",
   "execution_count": 4,
   "id": "7455b6d0",
   "metadata": {},
   "outputs": [
    {
     "name": "stdout",
     "output_type": "stream",
     "text": [
      "Enter the String:  Mrinaldeep\n",
      "M: 1\n",
      "r: 1\n",
      "i: 1\n",
      "n: 1\n",
      "a: 1\n",
      "l: 1\n",
      "d: 1\n",
      "e: 2\n",
      "e: 2\n",
      "p: 1\n"
     ]
    }
   ],
   "source": [
    "#Calcuate the frequency of the characters in a string\n",
    "\n",
    "#get the string input\n",
    "CheckStr = str(input(\"Enter the String:  \"))\n",
    "for i in CheckStr:\n",
    "    frequency = CheckStr.count(i)\n",
    "    print(str(i) + \": \" + str(frequency), end=\"\\n\")"
   ]
  },
  {
   "cell_type": "code",
   "execution_count": null,
   "id": "aef8c2cb",
   "metadata": {},
   "outputs": [],
   "source": []
  },
  {
   "cell_type": "code",
   "execution_count": null,
   "id": "e439a218",
   "metadata": {},
   "outputs": [],
   "source": []
  }
 ],
 "metadata": {
  "kernelspec": {
   "display_name": "Python 3 (ipykernel)",
   "language": "python",
   "name": "python3"
  },
  "language_info": {
   "codemirror_mode": {
    "name": "ipython",
    "version": 3
   },
   "file_extension": ".py",
   "mimetype": "text/x-python",
   "name": "python",
   "nbconvert_exporter": "python",
   "pygments_lexer": "ipython3",
   "version": "3.9.7"
  }
 },
 "nbformat": 4,
 "nbformat_minor": 5
}
