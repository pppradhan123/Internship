{
 "cells": [
  {
   "cell_type": "code",
   "execution_count": 13,
   "id": "cf084c46",
   "metadata": {},
   "outputs": [
    {
     "name": "stdout",
     "output_type": "stream",
     "text": [
      "Enter the number: 5\n",
      "The factorial of  5  is  120\n",
      "************** END ****************\n"
     ]
    }
   ],
   "source": [
    "# Program to find factorial of a number\n",
    "\n",
    "#Get the integer value from the user\n",
    "\n",
    "num = int(input(\"Enter the number: \"))\n",
    "\n",
    "fact = 1\n",
    "\n",
    "# Check if the number entered is a positive or negative\n",
    "# If negative then factorial does not exist\n",
    "if num < 0:\n",
    "    print(\"Factorial does not exist for negative numbers\")\n",
    "# If number entered is 0 factorial is 1\n",
    "elif num == 0:\n",
    "    print(\"The factorial of 0 is 1\")\n",
    "else:\n",
    "    for i in range(1,num+1):\n",
    "        fact=fact*i\n",
    "    print(\"The factorial of \", num , \" is \", fact)\n",
    "    print(\"************** END ****************\")\n",
    "\n"
   ]
  },
  {
   "cell_type": "code",
   "execution_count": null,
   "id": "a91c8f7c",
   "metadata": {},
   "outputs": [],
   "source": []
  }
 ],
 "metadata": {
  "kernelspec": {
   "display_name": "Python 3 (ipykernel)",
   "language": "python",
   "name": "python3"
  },
  "language_info": {
   "codemirror_mode": {
    "name": "ipython",
    "version": 3
   },
   "file_extension": ".py",
   "mimetype": "text/x-python",
   "name": "python",
   "nbconvert_exporter": "python",
   "pygments_lexer": "ipython3",
   "version": "3.9.7"
  }
 },
 "nbformat": 4,
 "nbformat_minor": 5
}
