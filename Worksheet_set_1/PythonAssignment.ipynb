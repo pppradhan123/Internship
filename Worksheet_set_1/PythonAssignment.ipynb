{
 "cells": [
  {
   "cell_type": "code",
   "execution_count": 1,
   "id": "1a7b06ce",
   "metadata": {},
   "outputs": [
    {
     "name": "stdout",
     "output_type": "stream",
     "text": [
      "Enter the number: 7\n",
      "The factorial of  7  is  5040\n",
      "************** END ****************\n"
     ]
    }
   ],
   "source": [
    "#11 Program to find factorial of a number\n",
    "\n",
    "#Get the integer value from the user\n",
    "\n",
    "num = int(input(\"Enter the number: \"))\n",
    "\n",
    "fact = 1\n",
    "\n",
    "# Check if the number entered is a positive or negative\n",
    "# If negative then factorial does not exist\n",
    "if num < 0:\n",
    "    print(\"Factorial does not exist for negative numbers\")\n",
    "# If number entered is 0 factorial is 1\n",
    "elif num == 0:\n",
    "    print(\"The factorial of 0 is 1\")\n",
    "else:\n",
    "    for i in range(1,num+1):\n",
    "        fact=fact*i\n",
    "    print(\"The factorial of \", num , \" is \", fact)\n",
    "    print(\"************** END ****************\")\n"
   ]
  },
  {
   "cell_type": "code",
   "execution_count": 2,
   "id": "c939530e",
   "metadata": {},
   "outputs": [
    {
     "name": "stdout",
     "output_type": "stream",
     "text": [
      "Enter a number to check if it is prime or not12\n",
      "12 Is a composite number\n"
     ]
    }
   ],
   "source": [
    "#12 Program to check if the number is prime or not\n",
    "\n",
    "#Get the Num\n",
    "num = int(input(\"Enter a number to check if it is prime or not\"))\n",
    "#check if the number is positive\n",
    "if num < 0:\n",
    "    print(\"Please Enter a positve number\")\n",
    "if (num == 0 or num == 1):\n",
    "    print(num,\" Is neither prime or a composite number\")\n",
    "elif num>1:\n",
    "    for i in range(2, num):\n",
    "        if(num%i == 0):\n",
    "            print (num,\"Is a composite number\")\n",
    "            break\n",
    "            \n",
    "    else:\n",
    "        print(num, \"Is a prime number\")\n",
    "            \n",
    "        "
   ]
  },
  {
   "cell_type": "code",
   "execution_count": 7,
   "id": "ddd8a5d8",
   "metadata": {},
   "outputs": [
    {
     "name": "stdout",
     "output_type": "stream",
     "text": [
      "Enter the string to check if it is a palindrome or not Anna\n",
      "True\n",
      "Anna  Is a Palindrome\n"
     ]
    }
   ],
   "source": [
    "#13 Define a function to check for palindrome\n",
    "def CheckPalindrom (PalStr):\n",
    "    for i in range(0, int(len(PalStr)/2)):\n",
    "        if PalStr[i] != PalStr [len(PalStr)-i-1]:\n",
    "            return False\n",
    "    return True\n",
    "#Checking if the string is a palidrome or not\n",
    "\n",
    "palStr = str(input(\"Enter the string to check if it is a palindrome or not \"))\n",
    "\n",
    "#convert all to lower case\n",
    "CheckStr = palStr.lower()\n",
    "ans = CheckPalindrom(CheckStr)\n",
    "print(ans)\n",
    "\n",
    "\n",
    "if (ans):\n",
    "    print(palStr, \" Is a Palindrome\")\n",
    "else:\n",
    "    print(palStr, \" Is not a Palindrome\")\n",
    "\n"
   ]
  },
  {
   "cell_type": "code",
   "execution_count": null,
   "id": "ecc9286d",
   "metadata": {},
   "outputs": [],
   "source": [
    "#14 Calculate the Sides of the triangle\n",
    "def pythagoras(Perpendicular,Base,hypotenuse):\n",
    "        if Perpendicular == str(\"x\"):\n",
    "            return (\"Perpendicular = \" + str(((hypotenuse**2) - (Base**2))**0.5))\n",
    "        elif Base == str(\"x\"):\n",
    "            return (\"Base = \" + str(((hypotenuse**2) - (Perpendicular**2))**0.5))\n",
    "        elif hypotenuse == str(\"x\"):\n",
    "            return (\"Hypotenuse = \" + str(((Perpendicular**2) + (Base**2))**0.5))\n",
    "        else:\n",
    "            return \"All values are calculated\"\n",
    "\n",
    "#Check with user what it wants to claculate\n",
    "Check = int(input(\"Enter 1: Calculate Hypotenuse Enter 2: Calculate Base Enter 3: Calculate Perpendicular\"))\n",
    "if Check == 1:\n",
    "    valPerp = int(input(\"Enter the Perpendicular: \"))\n",
    "    valBase = int(input(\"Enter the Base: \"))\n",
    "    print(pythagoras(valPerp,valBase,'x'))\n",
    "elif Check == 2:\n",
    "    valPerp = int(input(\"Enter the Perpendicular: \"))\n",
    "    valHypo = int(input(\"Enter the Hypotenuse: \"))\n",
    "    print(pythagoras(valPerp,'x',valHypo))\n",
    "elif Check == 3:\n",
    "    valBase = int(input(\"Enter the Base: \"))\n",
    "    valHypo = int(input(\"Enter the Hypotenuse: \"))\n",
    "    print(pythagoras('x',valBase,valHypo))\n",
    "else:\n",
    "    print(\"Incorrect Selection\")\n"
   ]
  },
  {
   "cell_type": "code",
   "execution_count": 9,
   "id": "39a822c3",
   "metadata": {},
   "outputs": [
    {
     "name": "stdout",
     "output_type": "stream",
     "text": [
      "Enter the String:  Mrinaldeep\n",
      "{'p', 'n', 'i', 'M', 'd', 'r', 'e', 'a', 'l'}\n",
      "p: 1\n",
      "n: 1\n",
      "i: 1\n",
      "M: 1\n",
      "d: 1\n",
      "r: 1\n",
      "e: 2\n",
      "a: 1\n",
      "l: 1\n"
     ]
    }
   ],
   "source": [
    "#Calcuate the frequency of the characters in a string\n",
    "\n",
    "#get the string input\n",
    "CheckStr = str(input(\"Enter the String:  \"))\n",
    "UniqChar = set(CheckStr)\n",
    "print(UniqChar)\n",
    "for i in UniqChar:\n",
    "    frequency = CheckStr.count(i)\n",
    "    print(str(i) + \": \" + str(frequency), end=\"\\n\")"
   ]
  },
  {
   "cell_type": "code",
   "execution_count": null,
   "id": "d6d1729d",
   "metadata": {},
   "outputs": [],
   "source": []
  }
 ],
 "metadata": {
  "kernelspec": {
   "display_name": "Python 3 (ipykernel)",
   "language": "python",
   "name": "python3"
  },
  "language_info": {
   "codemirror_mode": {
    "name": "ipython",
    "version": 3
   },
   "file_extension": ".py",
   "mimetype": "text/x-python",
   "name": "python",
   "nbconvert_exporter": "python",
   "pygments_lexer": "ipython3",
   "version": "3.9.7"
  }
 },
 "nbformat": 4,
 "nbformat_minor": 5
}
