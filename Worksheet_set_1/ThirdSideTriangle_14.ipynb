{
 "cells": [
  {
   "cell_type": "code",
   "execution_count": 15,
   "id": "7f0dc355",
   "metadata": {},
   "outputs": [
    {
     "name": "stdout",
     "output_type": "stream",
     "text": [
      "Enter 1: Calculate Hypotenuse Enter 2: Calculate Base Enter 3: Calculate Perpendicular3\n",
      "Enter the Base: 3\n",
      "Enter the Hypotenuse: 5\n",
      "Perpendicular = 4.0\n"
     ]
    }
   ],
   "source": [
    "# Calculate the Sides of the triangle\n",
    "def pythagoras(Perpendicular,Base,hypotenuse):\n",
    "        if Perpendicular == str(\"x\"):\n",
    "            return (\"Perpendicular = \" + str(((hypotenuse**2) - (Base**2))**0.5))\n",
    "        elif Base == str(\"x\"):\n",
    "            return (\"Base = \" + str(((hypotenuse**2) - (Perpendicular**2))**0.5))\n",
    "        elif hypotenuse == str(\"x\"):\n",
    "            return (\"Hypotenuse = \" + str(((Perpendicular**2) + (Base**2))**0.5))\n",
    "        else:\n",
    "            return \"All values are calculated\"\n",
    "\n",
    "#Check with user what it wants to claculate\n",
    "Check = int(input(\"Enter 1: Calculate Hypotenuse Enter 2: Calculate Base Enter 3: Calculate Perpendicular\"))\n",
    "if Check == 1:\n",
    "    valPerp = int(input(\"Enter the Perpendicular: \"))\n",
    "    valBase = int(input(\"Enter the Base: \"))\n",
    "    print(pythagoras(valPerp,valBase,'x'))\n",
    "elif Check == 2:\n",
    "    valPerp = int(input(\"Enter the Perpendicular: \"))\n",
    "    valHypo = int(input(\"Enter the Hypotenuse: \"))\n",
    "    print(pythagoras(valPerp,'x',valHypo))\n",
    "elif Check == 3:\n",
    "    valBase = int(input(\"Enter the Base: \"))\n",
    "    valHypo = int(input(\"Enter the Hypotenuse: \"))\n",
    "    print(pythagoras('x',valBase,valHypo))\n",
    "else:\n",
    "    print(\"Incorrect Selection\")\n"
   ]
  },
  {
   "cell_type": "code",
   "execution_count": null,
   "id": "3e71e286",
   "metadata": {},
   "outputs": [],
   "source": []
  }
 ],
 "metadata": {
  "kernelspec": {
   "display_name": "Python 3 (ipykernel)",
   "language": "python",
   "name": "python3"
  },
  "language_info": {
   "codemirror_mode": {
    "name": "ipython",
    "version": 3
   },
   "file_extension": ".py",
   "mimetype": "text/x-python",
   "name": "python",
   "nbconvert_exporter": "python",
   "pygments_lexer": "ipython3",
   "version": "3.9.7"
  }
 },
 "nbformat": 4,
 "nbformat_minor": 5
}
